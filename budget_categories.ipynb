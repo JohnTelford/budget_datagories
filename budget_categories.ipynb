{
 "cells": [
  {
   "cell_type": "code",
   "execution_count": 42,
   "metadata": {},
   "outputs": [
    {
     "name": "stdout",
     "output_type": "stream",
     "text": [
      "Date    FirstTech:Check Deposit (Begin)1/11/23FirstTec...\n",
      "dtype: object\n"
     ]
    },
    {
     "name": "stderr",
     "output_type": "stream",
     "text": [
      "/var/folders/zp/x575psrj00xdks3s_1l78ymh0000gn/T/ipykernel_99195/48416400.py:12: FutureWarning: The default value of regex will change from True to False in a future version. In addition, single character regular expressions will *not* be treated as literal strings when regex=True.\n",
      "  df['Amount'] = df['Amount'].str.replace('$', '')\n"
     ]
    }
   ],
   "source": [
    "import pandas as pd\n",
    "import numpy as np\n",
    "import re\n",
    "\n",
    "budget_categories = \"Category Report To Date.csv\"\n",
    "\n",
    "df = pd.read_csv(\"Category Report To Date.csv\")\n",
    "pd.set_option('display.max_rows', None)\n",
    "\n",
    "# remove $ and ,\n",
    "\n",
    "df['Amount'] = df['Amount'].str.replace('$', '')\n",
    "df\n",
    "# Total = df['Amount'].sum()\n",
    "\n",
    "\n",
    "# df = df.drop(columns=['Chk #', 'Note', 'Memo', 'Category',\t'Account' ], axis=1)\n",
    "# df.drop(df.iloc[:, 1:7], axis=1, inplace=True)\n",
    "# df\n",
    "# Total = (df.loc[:, :7].sum(), axis=1)\n",
    "\n",
    "print(Total)\n"
   ]
  },
  {
   "cell_type": "code",
   "execution_count": null,
   "metadata": {},
   "outputs": [],
   "source": []
  }
 ],
 "metadata": {
  "kernelspec": {
   "display_name": "Python 3",
   "language": "python",
   "name": "python3"
  },
  "language_info": {
   "codemirror_mode": {
    "name": "ipython",
    "version": 3
   },
   "file_extension": ".py",
   "mimetype": "text/x-python",
   "name": "python",
   "nbconvert_exporter": "python",
   "pygments_lexer": "ipython3",
   "version": "3.11.2"
  },
  "orig_nbformat": 4
 },
 "nbformat": 4,
 "nbformat_minor": 2
}
